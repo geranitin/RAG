{
 "cells": [
  {
   "cell_type": "code",
   "execution_count": 2,
   "id": "cb03e45d-21da-41d8-b3c4-908d6fffa635",
   "metadata": {
    "tags": []
   },
   "outputs": [],
   "source": [
    "%%sh\n",
    "pip install sagemaker langchain amazon-textract-caller amazon-textract-textractor sentence-transformers pypdf pip install faiss-cpu -qU"
   ]
  },
  {
   "cell_type": "code",
   "execution_count": 4,
   "id": "7c082511-f1d8-4436-b68a-b75ecfd89ff1",
   "metadata": {
    "tags": []
   },
   "outputs": [
    {
     "name": "stdout",
     "output_type": "stream",
     "text": [
      "sagemaker.config INFO - Not applying SDK defaults from location: /etc/xdg/sagemaker/config.yaml\n",
      "sagemaker.config INFO - Not applying SDK defaults from location: /home/ec2-user/.config/sagemaker/config.yaml\n",
      "sagemaker.config INFO - Not applying SDK defaults from location: /etc/xdg/sagemaker/config.yaml\n",
      "sagemaker.config INFO - Not applying SDK defaults from location: /home/ec2-user/.config/sagemaker/config.yaml\n"
     ]
    }
   ],
   "source": [
    "import time, os\n",
    "import sagemaker, boto3, json\n",
    "from sagemaker.session import Session\n",
    "from sagemaker.model import Model\n",
    "from sagemaker import image_uris, model_uris, script_uris, hyperparameters\n",
    "from sagemaker.predictor import Predictor\n",
    "from sagemaker.utils import name_from_base\n",
    "from typing import Any, Dict, List, Optional\n",
    "from langchain.embeddings import SagemakerEndpointEmbeddings\n",
    "#from langchain.llms.sagemaker_endpoint import ContentHandlerBase\n",
    "\n",
    "sagemaker_session = Session()\n",
    "aws_role = sagemaker_session.get_caller_identity_arn()\n",
    "aws_region = boto3.Session().region_name\n",
    "sess = sagemaker.Session()\n",
    "model_version = \"*\""
   ]
  },
  {
   "cell_type": "code",
   "execution_count": 5,
   "id": "5f1970a6-395f-45d3-ad30-7db7dd66473d",
   "metadata": {
    "tags": []
   },
   "outputs": [],
   "source": [
    "def parse_response_model_flan_t5(query_response):\n",
    "    model_predictions = json.loads(query_response[\"Body\"].read())\n",
    "    generated_text = model_predictions[\"generated_texts\"]\n",
    "    return generated_text\n",
    "\n",
    "_MODEL_CONFIG_ = {\n",
    "    \"huggingface-text2text-flan-t5-xl\": {\n",
    "        \"instance type\": \"ml.g4dn.4xlarge\",\n",
    "        \"env\": {\"SAGEMAKER_MODEL_SERVER_WORKERS\": \"1\", \"TS_DEFAULT_WORKERS_PER_MODEL\": \"1\"},\n",
    "        \"parse_function\": parse_response_model_flan_t5,\n",
    "        \"prompt\": \"\"\"Answer based on context:\\n\\n{context}\\n\\n{question}\"\"\",\n",
    "    },\n",
    "    \"huggingface-textembedding-gpt-j-6b\": {\n",
    "        \"instance type\": \"ml.g4dn.4xlarge\",\n",
    "        \"env\": {\"SAGEMAKER_MODEL_SERVER_WORKERS\": \"1\", \"TS_DEFAULT_WORKERS_PER_MODEL\": \"1\"},\n",
    "    },\n",
    "}"
   ]
  },
  {
   "cell_type": "code",
   "execution_count": 6,
   "id": "292aef9e-8e51-4243-9786-0c0f9e493944",
   "metadata": {
    "tags": []
   },
   "outputs": [
    {
     "name": "stderr",
     "output_type": "stream",
     "text": [
      "Using model 'huggingface-text2text-flan-t5-xl' with wildcard version identifier '*'. You can pin to version '2.0.0' for more stable results. Note that models may have different input/output signatures after a major version upgrade.\n"
     ]
    },
    {
     "name": "stdout",
     "output_type": "stream",
     "text": [
      "sagemaker.config INFO - Not applying SDK defaults from location: /etc/xdg/sagemaker/config.yaml\n",
      "sagemaker.config INFO - Not applying SDK defaults from location: /home/ec2-user/.config/sagemaker/config.yaml\n",
      "sagemaker.config INFO - Not applying SDK defaults from location: /etc/xdg/sagemaker/config.yaml\n",
      "sagemaker.config INFO - Not applying SDK defaults from location: /home/ec2-user/.config/sagemaker/config.yaml\n"
     ]
    },
    {
     "ename": "ClientError",
     "evalue": "An error occurred (ValidationException) when calling the CreateModel operation: Could not find model data at s3://jumpstart-cache-prod-eu-north-1/huggingface-text2text/huggingface-text2text-flan-t5-xl/artifacts/inference-prepack/v2.0.0/.",
     "output_type": "error",
     "traceback": [
      "\u001b[0;31m---------------------------------------------------------------------------\u001b[0m",
      "\u001b[0;31mClientError\u001b[0m                               Traceback (most recent call last)",
      "Cell \u001b[0;32mIn[6], line 28\u001b[0m\n\u001b[1;32m     17\u001b[0m model_uri \u001b[38;5;241m=\u001b[39m model_uris\u001b[38;5;241m.\u001b[39mretrieve(\n\u001b[1;32m     18\u001b[0m     model_id\u001b[38;5;241m=\u001b[39mmodel_id, model_version\u001b[38;5;241m=\u001b[39mmodel_version, model_scope\u001b[38;5;241m=\u001b[39m\u001b[38;5;124m\"\u001b[39m\u001b[38;5;124minference\u001b[39m\u001b[38;5;124m\"\u001b[39m\n\u001b[1;32m     19\u001b[0m )\n\u001b[1;32m     20\u001b[0m model_inference \u001b[38;5;241m=\u001b[39m Model(\n\u001b[1;32m     21\u001b[0m     image_uri\u001b[38;5;241m=\u001b[39mdeploy_image_uri,\n\u001b[1;32m     22\u001b[0m     model_data\u001b[38;5;241m=\u001b[39mmodel_uri,\n\u001b[0;32m   (...)\u001b[0m\n\u001b[1;32m     26\u001b[0m     env\u001b[38;5;241m=\u001b[39m_MODEL_CONFIG_[model_id][\u001b[38;5;124m\"\u001b[39m\u001b[38;5;124menv\u001b[39m\u001b[38;5;124m\"\u001b[39m],\n\u001b[1;32m     27\u001b[0m )\n\u001b[0;32m---> 28\u001b[0m model_predictor_inference \u001b[38;5;241m=\u001b[39m \u001b[43mmodel_inference\u001b[49m\u001b[38;5;241;43m.\u001b[39;49m\u001b[43mdeploy\u001b[49m\u001b[43m(\u001b[49m\n\u001b[1;32m     29\u001b[0m \u001b[43m    \u001b[49m\u001b[43minitial_instance_count\u001b[49m\u001b[38;5;241;43m=\u001b[39;49m\u001b[38;5;241;43m1\u001b[39;49m\u001b[43m,\u001b[49m\n\u001b[1;32m     30\u001b[0m \u001b[43m    \u001b[49m\u001b[43minstance_type\u001b[49m\u001b[38;5;241;43m=\u001b[39;49m\u001b[43minference_instance_type\u001b[49m\u001b[43m,\u001b[49m\n\u001b[1;32m     31\u001b[0m \u001b[43m    \u001b[49m\u001b[43mpredictor_cls\u001b[49m\u001b[38;5;241;43m=\u001b[39;49m\u001b[43mPredictor\u001b[49m\u001b[43m,\u001b[49m\n\u001b[1;32m     32\u001b[0m \u001b[43m    \u001b[49m\u001b[43mendpoint_name\u001b[49m\u001b[38;5;241;43m=\u001b[39;49m\u001b[43mendpoint_name\u001b[49m\u001b[43m,\u001b[49m\n\u001b[1;32m     33\u001b[0m \u001b[43m\u001b[49m\u001b[43m)\u001b[49m\n\u001b[1;32m     34\u001b[0m \u001b[38;5;28mprint\u001b[39m(\u001b[38;5;124mf\u001b[39m\u001b[38;5;124m\"\u001b[39m\u001b[38;5;132;01m{\u001b[39;00mbold\u001b[38;5;132;01m}\u001b[39;00m\u001b[38;5;124mModel \u001b[39m\u001b[38;5;132;01m{\u001b[39;00mmodel_id\u001b[38;5;132;01m}\u001b[39;00m\u001b[38;5;124m has been deployed successfully.\u001b[39m\u001b[38;5;132;01m{\u001b[39;00munbold\u001b[38;5;132;01m}\u001b[39;00m\u001b[38;5;132;01m{\u001b[39;00mnewline\u001b[38;5;132;01m}\u001b[39;00m\u001b[38;5;124m\"\u001b[39m)\n\u001b[1;32m     35\u001b[0m _MODEL_CONFIG_[model_id][\u001b[38;5;124m\"\u001b[39m\u001b[38;5;124mendpoint_name\u001b[39m\u001b[38;5;124m\"\u001b[39m] \u001b[38;5;241m=\u001b[39m endpoint_name\n",
      "File \u001b[0;32m~/anaconda3/envs/pytorch_p310/lib/python3.10/site-packages/sagemaker/model.py:1572\u001b[0m, in \u001b[0;36mdeploy\u001b[0;34m(self, initial_instance_count, instance_type, serializer, deserializer, accelerator_type, endpoint_name, tags, kms_key, wait, data_capture_config, async_inference_config, serverless_inference_config, volume_size, model_data_download_timeout, container_startup_health_check_timeout, inference_recommendation_id, explainer_config, accept_eula, endpoint_logging, resources, endpoint_type, managed_instance_scaling, **kwargs)\u001b[0m\n\u001b[1;32m   1564\u001b[0m \u001b[38;5;28;01mif\u001b[39;00m container_startup_health_check_timeout:\n\u001b[1;32m   1565\u001b[0m     startup_parameters[\n\u001b[1;32m   1566\u001b[0m         \u001b[38;5;124m\"\u001b[39m\u001b[38;5;124mContainerStartupHealthCheckTimeoutInSeconds\u001b[39m\u001b[38;5;124m\"\u001b[39m\n\u001b[1;32m   1567\u001b[0m     ] \u001b[38;5;241m=\u001b[39m container_startup_health_check_timeout\n\u001b[1;32m   1569\u001b[0m inference_component_spec \u001b[38;5;241m=\u001b[39m {\n\u001b[1;32m   1570\u001b[0m     \u001b[38;5;124m\"\u001b[39m\u001b[38;5;124mModelName\u001b[39m\u001b[38;5;124m\"\u001b[39m: \u001b[38;5;28mself\u001b[39m\u001b[38;5;241m.\u001b[39mname,\n\u001b[1;32m   1571\u001b[0m     \u001b[38;5;124m\"\u001b[39m\u001b[38;5;124mStartupParameters\u001b[39m\u001b[38;5;124m\"\u001b[39m: startup_parameters,\n\u001b[0;32m-> 1572\u001b[0m     \u001b[38;5;124m\"\u001b[39m\u001b[38;5;124mComputeResourceRequirements\u001b[39m\u001b[38;5;124m\"\u001b[39m: resources\u001b[38;5;241m.\u001b[39mget_compute_resource_requirements(),\n\u001b[1;32m   1573\u001b[0m }\n\u001b[1;32m   1574\u001b[0m runtime_config \u001b[38;5;241m=\u001b[39m {\u001b[38;5;124m\"\u001b[39m\u001b[38;5;124mCopyCount\u001b[39m\u001b[38;5;124m\"\u001b[39m: resources\u001b[38;5;241m.\u001b[39mcopy_count}\n\u001b[1;32m   1575\u001b[0m inference_component_name \u001b[38;5;241m=\u001b[39m unique_name_from_base(\u001b[38;5;28mself\u001b[39m\u001b[38;5;241m.\u001b[39mname)\n",
      "File \u001b[0;32m~/anaconda3/envs/pytorch_p310/lib/python3.10/site-packages/sagemaker/model.py:891\u001b[0m, in \u001b[0;36m_create_sagemaker_model\u001b[0;34m(self, instance_type, accelerator_type, tags, serverless_inference_config)\u001b[0m\n\u001b[1;32m    877\u001b[0m \u001b[38;5;28mself\u001b[39m\u001b[38;5;241m.\u001b[39mrole \u001b[38;5;241m=\u001b[39m resolve_value_from_config(\n\u001b[1;32m    878\u001b[0m     \u001b[38;5;28mself\u001b[39m\u001b[38;5;241m.\u001b[39mrole,\n\u001b[1;32m    879\u001b[0m     MODEL_EXECUTION_ROLE_ARN_PATH,\n\u001b[1;32m    880\u001b[0m     sagemaker_session\u001b[38;5;241m=\u001b[39m\u001b[38;5;28mself\u001b[39m\u001b[38;5;241m.\u001b[39msagemaker_session,\n\u001b[1;32m    881\u001b[0m )\n\u001b[1;32m    882\u001b[0m \u001b[38;5;28mself\u001b[39m\u001b[38;5;241m.\u001b[39mvpc_config \u001b[38;5;241m=\u001b[39m resolve_value_from_config(\n\u001b[1;32m    883\u001b[0m     \u001b[38;5;28mself\u001b[39m\u001b[38;5;241m.\u001b[39mvpc_config,\n\u001b[1;32m    884\u001b[0m     MODEL_VPC_CONFIG_PATH,\n\u001b[1;32m    885\u001b[0m     sagemaker_session\u001b[38;5;241m=\u001b[39m\u001b[38;5;28mself\u001b[39m\u001b[38;5;241m.\u001b[39msagemaker_session,\n\u001b[1;32m    886\u001b[0m )\n\u001b[1;32m    887\u001b[0m \u001b[38;5;28mself\u001b[39m\u001b[38;5;241m.\u001b[39m_enable_network_isolation \u001b[38;5;241m=\u001b[39m resolve_value_from_config(\n\u001b[1;32m    888\u001b[0m     \u001b[38;5;28mself\u001b[39m\u001b[38;5;241m.\u001b[39m_enable_network_isolation,\n\u001b[1;32m    889\u001b[0m     MODEL_ENABLE_NETWORK_ISOLATION_PATH,\n\u001b[1;32m    890\u001b[0m     sagemaker_session\u001b[38;5;241m=\u001b[39m\u001b[38;5;28mself\u001b[39m\u001b[38;5;241m.\u001b[39msagemaker_session,\n\u001b[0;32m--> 891\u001b[0m )\n\u001b[1;32m    892\u001b[0m \u001b[38;5;28mself\u001b[39m\u001b[38;5;241m.\u001b[39menv \u001b[38;5;241m=\u001b[39m resolve_nested_dict_value_from_config(\n\u001b[1;32m    893\u001b[0m     \u001b[38;5;28mself\u001b[39m\u001b[38;5;241m.\u001b[39menv,\n\u001b[1;32m    894\u001b[0m     [\u001b[38;5;124m\"\u001b[39m\u001b[38;5;124mEnvironment\u001b[39m\u001b[38;5;124m\"\u001b[39m],\n\u001b[1;32m    895\u001b[0m     MODEL_CONTAINERS_PATH,\n\u001b[1;32m    896\u001b[0m     sagemaker_session\u001b[38;5;241m=\u001b[39m\u001b[38;5;28mself\u001b[39m\u001b[38;5;241m.\u001b[39msagemaker_session,\n\u001b[1;32m    897\u001b[0m )\n\u001b[1;32m    898\u001b[0m create_model_args \u001b[38;5;241m=\u001b[39m \u001b[38;5;28mdict\u001b[39m(\n\u001b[1;32m    899\u001b[0m     name\u001b[38;5;241m=\u001b[39m\u001b[38;5;28mself\u001b[39m\u001b[38;5;241m.\u001b[39mname,\n\u001b[1;32m    900\u001b[0m     role\u001b[38;5;241m=\u001b[39m\u001b[38;5;28mself\u001b[39m\u001b[38;5;241m.\u001b[39mrole,\n\u001b[0;32m   (...)\u001b[0m\n\u001b[1;32m    904\u001b[0m     tags\u001b[38;5;241m=\u001b[39mformat_tags(tags),\n\u001b[1;32m    905\u001b[0m )\n",
      "File \u001b[0;32m~/anaconda3/envs/pytorch_p310/lib/python3.10/site-packages/sagemaker/session.py:3660\u001b[0m, in \u001b[0;36mcreate_model\u001b[0;34m(self, name, role, container_defs, vpc_config, enable_network_isolation, primary_container, tags)\u001b[0m\n\u001b[1;32m   3621\u001b[0m \u001b[38;5;28;01mdef\u001b[39;00m \u001b[38;5;21mcreate_model\u001b[39m(\n\u001b[1;32m   3622\u001b[0m     \u001b[38;5;28mself\u001b[39m,\n\u001b[1;32m   3623\u001b[0m     name,\n\u001b[0;32m   (...)\u001b[0m\n\u001b[1;32m   3629\u001b[0m     tags\u001b[38;5;241m=\u001b[39m\u001b[38;5;28;01mNone\u001b[39;00m,\n\u001b[1;32m   3630\u001b[0m ):\n\u001b[1;32m   3631\u001b[0m \u001b[38;5;250m    \u001b[39m\u001b[38;5;124;03m\"\"\"Create an Amazon SageMaker ``Model``.\u001b[39;00m\n\u001b[1;32m   3632\u001b[0m \n\u001b[1;32m   3633\u001b[0m \u001b[38;5;124;03m    Specify the S3 location of the model artifacts and Docker image containing\u001b[39;00m\n\u001b[1;32m   3634\u001b[0m \u001b[38;5;124;03m    the inference code. Amazon SageMaker uses this information to deploy the\u001b[39;00m\n\u001b[1;32m   3635\u001b[0m \u001b[38;5;124;03m    model in Amazon SageMaker. This method can also be used to create a Model for an Inference\u001b[39;00m\n\u001b[1;32m   3636\u001b[0m \u001b[38;5;124;03m    Pipeline if you pass the list of container definitions through the containers parameter.\u001b[39;00m\n\u001b[1;32m   3637\u001b[0m \n\u001b[1;32m   3638\u001b[0m \u001b[38;5;124;03m    Args:\u001b[39;00m\n\u001b[1;32m   3639\u001b[0m \u001b[38;5;124;03m        name (str): Name of the Amazon SageMaker ``Model`` to create.\u001b[39;00m\n\u001b[1;32m   3640\u001b[0m \u001b[38;5;124;03m        role (str): An AWS IAM role (either name or full ARN). The Amazon SageMaker training\u001b[39;00m\n\u001b[1;32m   3641\u001b[0m \u001b[38;5;124;03m            jobs and APIs that create Amazon SageMaker endpoints use this role to access\u001b[39;00m\n\u001b[1;32m   3642\u001b[0m \u001b[38;5;124;03m            training data and model artifacts. You must grant sufficient permissions to this\u001b[39;00m\n\u001b[1;32m   3643\u001b[0m \u001b[38;5;124;03m            role.\u001b[39;00m\n\u001b[1;32m   3644\u001b[0m \u001b[38;5;124;03m        container_defs (list[dict[str, str]] or [dict[str, str]]): A single container\u001b[39;00m\n\u001b[1;32m   3645\u001b[0m \u001b[38;5;124;03m            definition or a list of container definitions which will be invoked sequentially\u001b[39;00m\n\u001b[1;32m   3646\u001b[0m \u001b[38;5;124;03m            while performing the prediction. If the list contains only one container, then\u001b[39;00m\n\u001b[1;32m   3647\u001b[0m \u001b[38;5;124;03m            it'll be passed to SageMaker Hosting as the ``PrimaryContainer`` and otherwise,\u001b[39;00m\n\u001b[1;32m   3648\u001b[0m \u001b[38;5;124;03m            it'll be passed as ``Containers``.You can also specify the  return value of\u001b[39;00m\n\u001b[1;32m   3649\u001b[0m \u001b[38;5;124;03m            ``sagemaker.get_container_def()`` or ``sagemaker.pipeline_container_def()``,\u001b[39;00m\n\u001b[1;32m   3650\u001b[0m \u001b[38;5;124;03m            which will used to create more advanced container configurations, including model\u001b[39;00m\n\u001b[1;32m   3651\u001b[0m \u001b[38;5;124;03m            containers which need artifacts from S3.\u001b[39;00m\n\u001b[1;32m   3652\u001b[0m \u001b[38;5;124;03m        vpc_config (dict[str, list[str]]): The VpcConfig set on the model (default: None)\u001b[39;00m\n\u001b[1;32m   3653\u001b[0m \u001b[38;5;124;03m            * 'Subnets' (list[str]): List of subnet ids.\u001b[39;00m\n\u001b[1;32m   3654\u001b[0m \u001b[38;5;124;03m            * 'SecurityGroupIds' (list[str]): List of security group ids.\u001b[39;00m\n\u001b[1;32m   3655\u001b[0m \u001b[38;5;124;03m        enable_network_isolation (bool): Whether the model requires network isolation or not.\u001b[39;00m\n\u001b[1;32m   3656\u001b[0m \u001b[38;5;124;03m        primary_container (str or dict[str, str]): Docker image which defines the inference\u001b[39;00m\n\u001b[1;32m   3657\u001b[0m \u001b[38;5;124;03m            code. You can also specify the return value of ``sagemaker.container_def()``,\u001b[39;00m\n\u001b[1;32m   3658\u001b[0m \u001b[38;5;124;03m            which is used to create more advanced container configurations, including model\u001b[39;00m\n\u001b[1;32m   3659\u001b[0m \u001b[38;5;124;03m            containers which need artifacts from S3. This field is deprecated, please use\u001b[39;00m\n\u001b[0;32m-> 3660\u001b[0m \u001b[38;5;124;03m            container_defs instead.\u001b[39;00m\n\u001b[1;32m   3661\u001b[0m \u001b[38;5;124;03m        tags(Optional[Tags]): Optional. The list of tags to add to the model.\u001b[39;00m\n\u001b[1;32m   3662\u001b[0m \n\u001b[1;32m   3663\u001b[0m \u001b[38;5;124;03m    Example:\u001b[39;00m\n\u001b[1;32m   3664\u001b[0m \u001b[38;5;124;03m        >>> tags = [{'Key': 'tagname', 'Value': 'tagvalue'}]\u001b[39;00m\n\u001b[1;32m   3665\u001b[0m \u001b[38;5;124;03m        For more information about tags, see https://boto3.amazonaws.com/v1/documentation\\\u001b[39;00m\n\u001b[1;32m   3666\u001b[0m \u001b[38;5;124;03m        /api/latest/reference/services/sagemaker.html#SageMaker.Client.add_tags\u001b[39;00m\n\u001b[1;32m   3667\u001b[0m \n\u001b[1;32m   3668\u001b[0m \u001b[38;5;124;03m    Returns:\u001b[39;00m\n\u001b[1;32m   3669\u001b[0m \u001b[38;5;124;03m        str: Name of the Amazon SageMaker ``Model`` created.\u001b[39;00m\n\u001b[1;32m   3670\u001b[0m \u001b[38;5;124;03m    \"\"\"\u001b[39;00m\n\u001b[1;32m   3671\u001b[0m     tags \u001b[38;5;241m=\u001b[39m _append_project_tags(format_tags(tags))\n\u001b[1;32m   3672\u001b[0m     tags \u001b[38;5;241m=\u001b[39m \u001b[38;5;28mself\u001b[39m\u001b[38;5;241m.\u001b[39m_append_sagemaker_config_tags(tags, \u001b[38;5;124m\"\u001b[39m\u001b[38;5;132;01m{}\u001b[39;00m\u001b[38;5;124m.\u001b[39m\u001b[38;5;132;01m{}\u001b[39;00m\u001b[38;5;124m.\u001b[39m\u001b[38;5;132;01m{}\u001b[39;00m\u001b[38;5;124m\"\u001b[39m\u001b[38;5;241m.\u001b[39mformat(SAGEMAKER, MODEL, TAGS))\n",
      "File \u001b[0;32m~/anaconda3/envs/pytorch_p310/lib/python3.10/site-packages/sagemaker/session.py:6095\u001b[0m, in \u001b[0;36m_intercept_create_request\u001b[0;34m(self, request, create, func_name)\u001b[0m\n\u001b[1;32m   6089\u001b[0m     logger\u001b[38;5;241m.\u001b[39minfo(\u001b[38;5;124m\"\u001b[39m\u001b[38;5;124mQuery \u001b[39m\u001b[38;5;132;01m%s\u001b[39;00m\u001b[38;5;124m is being executed.\u001b[39m\u001b[38;5;124m\"\u001b[39m, query_execution_id)\n\u001b[1;32m   6090\u001b[0m     time\u001b[38;5;241m.\u001b[39msleep(poll)\n\u001b[1;32m   6091\u001b[0m     query_state \u001b[38;5;241m=\u001b[39m (\n\u001b[1;32m   6092\u001b[0m         \u001b[38;5;28mself\u001b[39m\u001b[38;5;241m.\u001b[39mget_query_execution(query_execution_id\u001b[38;5;241m=\u001b[39mquery_execution_id)\n\u001b[1;32m   6093\u001b[0m         \u001b[38;5;241m.\u001b[39mget(\u001b[38;5;124m\"\u001b[39m\u001b[38;5;124mQueryExecution\u001b[39m\u001b[38;5;124m\"\u001b[39m)\n\u001b[1;32m   6094\u001b[0m         \u001b[38;5;241m.\u001b[39mget(\u001b[38;5;124m\"\u001b[39m\u001b[38;5;124mStatus\u001b[39m\u001b[38;5;124m\"\u001b[39m)\n\u001b[0;32m-> 6095\u001b[0m         \u001b[38;5;241m.\u001b[39mget(\u001b[38;5;124m\"\u001b[39m\u001b[38;5;124mState\u001b[39m\u001b[38;5;124m\"\u001b[39m)\n\u001b[1;32m   6096\u001b[0m     )\n\u001b[1;32m   6097\u001b[0m \u001b[38;5;28;01mif\u001b[39;00m query_state \u001b[38;5;241m==\u001b[39m \u001b[38;5;124m\"\u001b[39m\u001b[38;5;124mSUCCEEDED\u001b[39m\u001b[38;5;124m\"\u001b[39m:\n\u001b[1;32m   6098\u001b[0m     logger\u001b[38;5;241m.\u001b[39minfo(\u001b[38;5;124m\"\u001b[39m\u001b[38;5;124mQuery \u001b[39m\u001b[38;5;132;01m%s\u001b[39;00m\u001b[38;5;124m successfully executed.\u001b[39m\u001b[38;5;124m\"\u001b[39m, query_execution_id)\n",
      "File \u001b[0;32m~/anaconda3/envs/pytorch_p310/lib/python3.10/site-packages/sagemaker/session.py:3648\u001b[0m, in \u001b[0;36msubmit\u001b[0;34m(request)\u001b[0m\n\u001b[1;32m   3621\u001b[0m \u001b[38;5;28;01mdef\u001b[39;00m \u001b[38;5;21mcreate_model\u001b[39m(\n\u001b[1;32m   3622\u001b[0m     \u001b[38;5;28mself\u001b[39m,\n\u001b[1;32m   3623\u001b[0m     name,\n\u001b[0;32m   (...)\u001b[0m\n\u001b[1;32m   3629\u001b[0m     tags\u001b[38;5;241m=\u001b[39m\u001b[38;5;28;01mNone\u001b[39;00m,\n\u001b[1;32m   3630\u001b[0m ):\n\u001b[1;32m   3631\u001b[0m \u001b[38;5;250m    \u001b[39m\u001b[38;5;124;03m\"\"\"Create an Amazon SageMaker ``Model``.\u001b[39;00m\n\u001b[1;32m   3632\u001b[0m \n\u001b[1;32m   3633\u001b[0m \u001b[38;5;124;03m    Specify the S3 location of the model artifacts and Docker image containing\u001b[39;00m\n\u001b[1;32m   3634\u001b[0m \u001b[38;5;124;03m    the inference code. Amazon SageMaker uses this information to deploy the\u001b[39;00m\n\u001b[1;32m   3635\u001b[0m \u001b[38;5;124;03m    model in Amazon SageMaker. This method can also be used to create a Model for an Inference\u001b[39;00m\n\u001b[1;32m   3636\u001b[0m \u001b[38;5;124;03m    Pipeline if you pass the list of container definitions through the containers parameter.\u001b[39;00m\n\u001b[1;32m   3637\u001b[0m \n\u001b[1;32m   3638\u001b[0m \u001b[38;5;124;03m    Args:\u001b[39;00m\n\u001b[1;32m   3639\u001b[0m \u001b[38;5;124;03m        name (str): Name of the Amazon SageMaker ``Model`` to create.\u001b[39;00m\n\u001b[1;32m   3640\u001b[0m \u001b[38;5;124;03m        role (str): An AWS IAM role (either name or full ARN). The Amazon SageMaker training\u001b[39;00m\n\u001b[1;32m   3641\u001b[0m \u001b[38;5;124;03m            jobs and APIs that create Amazon SageMaker endpoints use this role to access\u001b[39;00m\n\u001b[1;32m   3642\u001b[0m \u001b[38;5;124;03m            training data and model artifacts. You must grant sufficient permissions to this\u001b[39;00m\n\u001b[1;32m   3643\u001b[0m \u001b[38;5;124;03m            role.\u001b[39;00m\n\u001b[1;32m   3644\u001b[0m \u001b[38;5;124;03m        container_defs (list[dict[str, str]] or [dict[str, str]]): A single container\u001b[39;00m\n\u001b[1;32m   3645\u001b[0m \u001b[38;5;124;03m            definition or a list of container definitions which will be invoked sequentially\u001b[39;00m\n\u001b[1;32m   3646\u001b[0m \u001b[38;5;124;03m            while performing the prediction. If the list contains only one container, then\u001b[39;00m\n\u001b[1;32m   3647\u001b[0m \u001b[38;5;124;03m            it'll be passed to SageMaker Hosting as the ``PrimaryContainer`` and otherwise,\u001b[39;00m\n\u001b[0;32m-> 3648\u001b[0m \u001b[38;5;124;03m            it'll be passed as ``Containers``.You can also specify the  return value of\u001b[39;00m\n\u001b[1;32m   3649\u001b[0m \u001b[38;5;124;03m            ``sagemaker.get_container_def()`` or ``sagemaker.pipeline_container_def()``,\u001b[39;00m\n\u001b[1;32m   3650\u001b[0m \u001b[38;5;124;03m            which will used to create more advanced container configurations, including model\u001b[39;00m\n\u001b[1;32m   3651\u001b[0m \u001b[38;5;124;03m            containers which need artifacts from S3.\u001b[39;00m\n\u001b[1;32m   3652\u001b[0m \u001b[38;5;124;03m        vpc_config (dict[str, list[str]]): The VpcConfig set on the model (default: None)\u001b[39;00m\n\u001b[1;32m   3653\u001b[0m \u001b[38;5;124;03m            * 'Subnets' (list[str]): List of subnet ids.\u001b[39;00m\n\u001b[1;32m   3654\u001b[0m \u001b[38;5;124;03m            * 'SecurityGroupIds' (list[str]): List of security group ids.\u001b[39;00m\n\u001b[1;32m   3655\u001b[0m \u001b[38;5;124;03m        enable_network_isolation (bool): Whether the model requires network isolation or not.\u001b[39;00m\n\u001b[1;32m   3656\u001b[0m \u001b[38;5;124;03m        primary_container (str or dict[str, str]): Docker image which defines the inference\u001b[39;00m\n\u001b[1;32m   3657\u001b[0m \u001b[38;5;124;03m            code. You can also specify the return value of ``sagemaker.container_def()``,\u001b[39;00m\n\u001b[1;32m   3658\u001b[0m \u001b[38;5;124;03m            which is used to create more advanced container configurations, including model\u001b[39;00m\n\u001b[1;32m   3659\u001b[0m \u001b[38;5;124;03m            containers which need artifacts from S3. This field is deprecated, please use\u001b[39;00m\n\u001b[1;32m   3660\u001b[0m \u001b[38;5;124;03m            container_defs instead.\u001b[39;00m\n\u001b[1;32m   3661\u001b[0m \u001b[38;5;124;03m        tags(Optional[Tags]): Optional. The list of tags to add to the model.\u001b[39;00m\n\u001b[1;32m   3662\u001b[0m \n\u001b[1;32m   3663\u001b[0m \u001b[38;5;124;03m    Example:\u001b[39;00m\n\u001b[1;32m   3664\u001b[0m \u001b[38;5;124;03m        >>> tags = [{'Key': 'tagname', 'Value': 'tagvalue'}]\u001b[39;00m\n\u001b[1;32m   3665\u001b[0m \u001b[38;5;124;03m        For more information about tags, see https://boto3.amazonaws.com/v1/documentation\\\u001b[39;00m\n\u001b[1;32m   3666\u001b[0m \u001b[38;5;124;03m        /api/latest/reference/services/sagemaker.html#SageMaker.Client.add_tags\u001b[39;00m\n\u001b[1;32m   3667\u001b[0m \n\u001b[1;32m   3668\u001b[0m \u001b[38;5;124;03m    Returns:\u001b[39;00m\n\u001b[1;32m   3669\u001b[0m \u001b[38;5;124;03m        str: Name of the Amazon SageMaker ``Model`` created.\u001b[39;00m\n\u001b[1;32m   3670\u001b[0m \u001b[38;5;124;03m    \"\"\"\u001b[39;00m\n\u001b[1;32m   3671\u001b[0m     tags \u001b[38;5;241m=\u001b[39m _append_project_tags(format_tags(tags))\n\u001b[1;32m   3672\u001b[0m     tags \u001b[38;5;241m=\u001b[39m \u001b[38;5;28mself\u001b[39m\u001b[38;5;241m.\u001b[39m_append_sagemaker_config_tags(tags, \u001b[38;5;124m\"\u001b[39m\u001b[38;5;132;01m{}\u001b[39;00m\u001b[38;5;124m.\u001b[39m\u001b[38;5;132;01m{}\u001b[39;00m\u001b[38;5;124m.\u001b[39m\u001b[38;5;132;01m{}\u001b[39;00m\u001b[38;5;124m\"\u001b[39m\u001b[38;5;241m.\u001b[39mformat(SAGEMAKER, MODEL, TAGS))\n",
      "File \u001b[0;32m~/anaconda3/envs/pytorch_p310/lib/python3.10/site-packages/botocore/client.py:553\u001b[0m, in \u001b[0;36mClientCreator._create_api_method.<locals>._api_call\u001b[0;34m(self, *args, **kwargs)\u001b[0m\n\u001b[1;32m    549\u001b[0m     \u001b[38;5;28;01mraise\u001b[39;00m \u001b[38;5;167;01mTypeError\u001b[39;00m(\n\u001b[1;32m    550\u001b[0m         \u001b[38;5;124mf\u001b[39m\u001b[38;5;124m\"\u001b[39m\u001b[38;5;132;01m{\u001b[39;00mpy_operation_name\u001b[38;5;132;01m}\u001b[39;00m\u001b[38;5;124m() only accepts keyword arguments.\u001b[39m\u001b[38;5;124m\"\u001b[39m\n\u001b[1;32m    551\u001b[0m     )\n\u001b[1;32m    552\u001b[0m \u001b[38;5;66;03m# The \"self\" in this scope is referring to the BaseClient.\u001b[39;00m\n\u001b[0;32m--> 553\u001b[0m \u001b[38;5;28;01mreturn\u001b[39;00m \u001b[38;5;28;43mself\u001b[39;49m\u001b[38;5;241;43m.\u001b[39;49m\u001b[43m_make_api_call\u001b[49m\u001b[43m(\u001b[49m\u001b[43moperation_name\u001b[49m\u001b[43m,\u001b[49m\u001b[43m \u001b[49m\u001b[43mkwargs\u001b[49m\u001b[43m)\u001b[49m\n",
      "File \u001b[0;32m~/anaconda3/envs/pytorch_p310/lib/python3.10/site-packages/botocore/client.py:1009\u001b[0m, in \u001b[0;36mBaseClient._make_api_call\u001b[0;34m(self, operation_name, api_params)\u001b[0m\n\u001b[1;32m   1005\u001b[0m     error_code \u001b[38;5;241m=\u001b[39m error_info\u001b[38;5;241m.\u001b[39mget(\u001b[38;5;124m\"\u001b[39m\u001b[38;5;124mQueryErrorCode\u001b[39m\u001b[38;5;124m\"\u001b[39m) \u001b[38;5;129;01mor\u001b[39;00m error_info\u001b[38;5;241m.\u001b[39mget(\n\u001b[1;32m   1006\u001b[0m         \u001b[38;5;124m\"\u001b[39m\u001b[38;5;124mCode\u001b[39m\u001b[38;5;124m\"\u001b[39m\n\u001b[1;32m   1007\u001b[0m     )\n\u001b[1;32m   1008\u001b[0m     error_class \u001b[38;5;241m=\u001b[39m \u001b[38;5;28mself\u001b[39m\u001b[38;5;241m.\u001b[39mexceptions\u001b[38;5;241m.\u001b[39mfrom_code(error_code)\n\u001b[0;32m-> 1009\u001b[0m     \u001b[38;5;28;01mraise\u001b[39;00m error_class(parsed_response, operation_name)\n\u001b[1;32m   1010\u001b[0m \u001b[38;5;28;01melse\u001b[39;00m:\n\u001b[1;32m   1011\u001b[0m     \u001b[38;5;28;01mreturn\u001b[39;00m parsed_response\n",
      "\u001b[0;31mClientError\u001b[0m: An error occurred (ValidationException) when calling the CreateModel operation: Could not find model data at s3://jumpstart-cache-prod-eu-north-1/huggingface-text2text/huggingface-text2text-flan-t5-xl/artifacts/inference-prepack/v2.0.0/."
     ]
    }
   ],
   "source": [
    "newline, bold, unbold = \"\\n\", \"\\033[1m\", \"\\033[0m\"\n",
    "\n",
    "for model_id in _MODEL_CONFIG_:\n",
    "    endpoint_name = name_from_base(f\"jumpstart-example-raglc-{model_id}\")\n",
    "    inference_instance_type = _MODEL_CONFIG_[model_id][\"instance type\"]\n",
    "\n",
    "    # Retrieve the inference container uri. This is the base HuggingFace container image for the default model above.\n",
    "    deploy_image_uri = image_uris.retrieve(\n",
    "        region=None,\n",
    "        framework=None,  # automatically inferred from model_id\n",
    "        image_scope=\"inference\",\n",
    "        model_id=model_id,\n",
    "        model_version=model_version,\n",
    "        instance_type=inference_instance_type,\n",
    "    )\n",
    "    # Retrieve the model uri.\n",
    "    model_uri = model_uris.retrieve(\n",
    "        model_id=model_id, model_version=model_version, model_scope=\"inference\"\n",
    "    )\n",
    "    model_inference = Model(\n",
    "        image_uri=deploy_image_uri,\n",
    "        model_data=model_uri,\n",
    "        role=aws_role,\n",
    "        predictor_cls=Predictor,\n",
    "        name=endpoint_name,\n",
    "        env=_MODEL_CONFIG_[model_id][\"env\"],\n",
    "    )\n",
    "    model_predictor_inference = model_inference.deploy(\n",
    "        initial_instance_count=1,\n",
    "        instance_type=inference_instance_type,\n",
    "        predictor_cls=Predictor,\n",
    "        endpoint_name=endpoint_name,\n",
    "    )\n",
    "    print(f\"{bold}Model {model_id} has been deployed successfully.{unbold}{newline}\")\n",
    "    _MODEL_CONFIG_[model_id][\"endpoint_name\"] = endpoint_name"
   ]
  },
  {
   "cell_type": "code",
   "execution_count": 7,
   "id": "2f9516fc-4971-407d-9c54-b65b110af8ea",
   "metadata": {
    "tags": []
   },
   "outputs": [
    {
     "ename": "NameError",
     "evalue": "name 'predictor' is not defined",
     "output_type": "error",
     "traceback": [
      "\u001b[0;31m---------------------------------------------------------------------------\u001b[0m",
      "\u001b[0;31mNameError\u001b[0m                                 Traceback (most recent call last)",
      "Cell \u001b[0;32mIn[7], line 1\u001b[0m\n\u001b[0;32m----> 1\u001b[0m \u001b[43mpredictor\u001b[49m\u001b[38;5;241m.\u001b[39mdelete_model()\n\u001b[1;32m      2\u001b[0m predictor\u001b[38;5;241m.\u001b[39mdelete_endpoint()\n",
      "\u001b[0;31mNameError\u001b[0m: name 'predictor' is not defined"
     ]
    }
   ],
   "source": [
    "predictor.delete_model()\n",
    "predictor.delete_endpoint()"
   ]
  },
  {
   "cell_type": "code",
   "execution_count": null,
   "id": "81f8037c-2bf3-4d2a-98f4-cb38bc9fad9d",
   "metadata": {},
   "outputs": [],
   "source": []
  }
 ],
 "metadata": {
  "kernelspec": {
   "display_name": "conda_pytorch_p310",
   "language": "python",
   "name": "conda_pytorch_p310"
  },
  "language_info": {
   "codemirror_mode": {
    "name": "ipython",
    "version": 3
   },
   "file_extension": ".py",
   "mimetype": "text/x-python",
   "name": "python",
   "nbconvert_exporter": "python",
   "pygments_lexer": "ipython3",
   "version": "3.10.13"
  }
 },
 "nbformat": 4,
 "nbformat_minor": 5
}
